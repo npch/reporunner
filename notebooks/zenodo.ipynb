{
 "cells": [
  {
   "cell_type": "markdown",
   "id": "84f31733-508c-47cb-9c17-5434d3c11db7",
   "metadata": {},
   "source": [
    "# Zenodo Repository Runner"
   ]
  },
  {
   "cell_type": "code",
   "execution_count": 33,
   "id": "3f43a06c-ae05-4362-89d9-cefb80d23120",
   "metadata": {
    "tags": []
   },
   "outputs": [],
   "source": [
    "import requests\n",
    "import csv"
   ]
  },
  {
   "cell_type": "code",
   "execution_count": 2,
   "id": "7f6e9b6d-e37a-4bca-bb24-bd3b14e9090b",
   "metadata": {
    "tags": []
   },
   "outputs": [
    {
     "name": "stdout",
     "output_type": "stream",
     "text": [
      "\n",
      "\n"
     ]
    }
   ],
   "source": [
    "# Load the access token\n",
    "\n",
    "with open('../secrets/zenodo.token','r') as f:\n",
    "    ACCESS_TOKEN = f.read()\n",
    "\n",
    "print(ACCESS_TOKEN)"
   ]
  },
  {
   "cell_type": "markdown",
   "id": "a758772d-c4bd-48ef-ac14-e45d11db843c",
   "metadata": {},
   "source": [
    "## Get a list of all Zenodo records which have type : software"
   ]
  },
  {
   "cell_type": "code",
   "execution_count": 36,
   "id": "d834faae-4864-43d8-8b91-51ee4cee5d12",
   "metadata": {
    "tags": []
   },
   "outputs": [
    {
     "name": "stdout",
     "output_type": "stream",
     "text": [
      "[8412005, 8412004, 8411975, 8411959, 8411958, 8411951, 8411949, 8411950, 8411927, 8411913, 8411898, 8411890, 8411836, 8411829, 8411824, 8411790, 8411771, 8411764, 8400131, 7828061, 8406104, 8319811, 8411680, 8411637, 8411613, 8411607, 8411580, 8411540, 8411513, 8411512]\n"
     ]
    }
   ],
   "source": [
    "search_query = \"software\"\n",
    "r = requests.get(\"https://zenodo.org/api/records\", params={'type': 'software'})\n",
    "\n",
    "identifiers = []\n",
    "\n",
    "if 'hits' in r.json():\n",
    "    still_iterating = True\n",
    "else:\n",
    "    still_iterating = False\n",
    "\n",
    "while still_iterating and (len(identifiers) < 30):\n",
    "    if 'hits' in r.json():\n",
    "        for hit in r.json()['hits']['hits']:\n",
    "#            print(hit['id'])\n",
    "#        print(hit['metadata']['title'])\n",
    "            identifiers.append(hit['id'])\n",
    "            \n",
    "        if 'next' in r.json()['links']:\n",
    "            r = requests.get(r.json()['links']['next'])\n",
    "        else: \n",
    "            still_iterating = False\n",
    "    else:\n",
    "        still_iterating = False\n",
    "        \n",
    "print(identifiers)"
   ]
  },
  {
   "cell_type": "markdown",
   "id": "e4b5b9f7-148f-45ca-b582-5dee70f32352",
   "metadata": {},
   "source": [
    "## Get GitHub links from a list of Zenodo IDs  "
   ]
  },
  {
   "cell_type": "code",
   "execution_count": 35,
   "id": "839592fe-d682-4639-ae7c-c93dced0bf74",
   "metadata": {
    "tags": []
   },
   "outputs": [],
   "source": [
    "f = open('results.csv', 'w')\n",
    "writer = csv.writer(f)\n",
    "\n",
    "header = ['Zenodo ID', 'GitHub Related Link', 'Relation Type']\n",
    "writer.writerow(header)\n",
    "\n",
    "for record_id in identifiers:\n",
    "    r = requests.get(\"https://zenodo.org/api/records/{}\".format(record_id))\n",
    "\n",
    "    for id in r.json()['metadata']['related_identifiers']:\n",
    "        if (\"github.com\" in id['identifier']):\n",
    "            row = []\n",
    "            row.append(record_id)\n",
    "            row.append(id['identifier'])\n",
    "            row.append(id['relation'])\n",
    "            writer.writerow(row)\n",
    "\n",
    "f.close()"
   ]
  },
  {
   "cell_type": "code",
   "execution_count": null,
   "id": "5a74d354-47c8-424b-9d09-7d802550143b",
   "metadata": {},
   "outputs": [],
   "source": []
  }
 ],
 "metadata": {
  "kernelspec": {
   "display_name": "Python 3 (ipykernel)",
   "language": "python",
   "name": "python3"
  },
  "language_info": {
   "codemirror_mode": {
    "name": "ipython",
    "version": 3
   },
   "file_extension": ".py",
   "mimetype": "text/x-python",
   "name": "python",
   "nbconvert_exporter": "python",
   "pygments_lexer": "ipython3",
   "version": "3.11.4"
  }
 },
 "nbformat": 4,
 "nbformat_minor": 5
}
